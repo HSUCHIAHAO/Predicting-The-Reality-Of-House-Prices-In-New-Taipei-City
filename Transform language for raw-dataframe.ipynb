{
 "cells": [
  {
   "cell_type": "code",
   "execution_count": 1,
   "metadata": {},
   "outputs": [
    {
     "data": {
      "text/html": [
       "<div>\n",
       "<style scoped>\n",
       "    .dataframe tbody tr th:only-of-type {\n",
       "        vertical-align: middle;\n",
       "    }\n",
       "\n",
       "    .dataframe tbody tr th {\n",
       "        vertical-align: top;\n",
       "    }\n",
       "\n",
       "    .dataframe thead th {\n",
       "        text-align: right;\n",
       "    }\n",
       "</style>\n",
       "<table border=\"1\" class=\"dataframe\">\n",
       "  <thead>\n",
       "    <tr style=\"text-align: right;\">\n",
       "      <th></th>\n",
       "      <th>district</th>\n",
       "      <th>subject of transaction</th>\n",
       "      <th>location of land section or building area number</th>\n",
       "      <th>total land transfer area square meters</th>\n",
       "      <th>urban land use zoning</th>\n",
       "      <th>non-urban land Use zoning</th>\n",
       "      <th>non-urban land use planning</th>\n",
       "      <th>transaction year and month</th>\n",
       "      <th>number of transaction pens</th>\n",
       "      <th>transfer level</th>\n",
       "      <th>total floors</th>\n",
       "      <th>building type</th>\n",
       "      <th>main use</th>\n",
       "      <th>main building material</th>\n",
       "      <th>year and month of completion of construction</th>\n",
       "      <th>total area of building transfer square meters</th>\n",
       "      <th>construction status-room</th>\n",
       "      <th>construction status-hall</th>\n",
       "      <th>construction status-bathroom</th>\n",
       "      <th>construction status-compartment</th>\n",
       "      <th>with or without management organization</th>\n",
       "      <th>total price</th>\n",
       "      <th>unit price per square meter</th>\n",
       "      <th>parking category</th>\n",
       "      <th>Car displacement to total area square meters</th>\n",
       "      <th>total parking price</th>\n",
       "      <th>remarks</th>\n",
       "      <th>numbers</th>\n",
       "    </tr>\n",
       "  </thead>\n",
       "  <tbody>\n",
       "    <tr>\n",
       "      <th>155</th>\n",
       "      <td>中和區</td>\n",
       "      <td>房地(土地+建物)</td>\n",
       "      <td>新北市中和區華福街31~60號</td>\n",
       "      <td>15.63</td>\n",
       "      <td>住</td>\n",
       "      <td>NaN</td>\n",
       "      <td>NaN</td>\n",
       "      <td>1080704</td>\n",
       "      <td>土地1建物1車位0</td>\n",
       "      <td>一層，平台，騎樓</td>\n",
       "      <td>四層</td>\n",
       "      <td>公寓(5樓含以下無電梯)</td>\n",
       "      <td>住家用</td>\n",
       "      <td>加強磚造</td>\n",
       "      <td>660128.0</td>\n",
       "      <td>71.86</td>\n",
       "      <td>1</td>\n",
       "      <td>1</td>\n",
       "      <td>1</td>\n",
       "      <td>有</td>\n",
       "      <td>無</td>\n",
       "      <td>4600000</td>\n",
       "      <td>64013.0</td>\n",
       "      <td>NaN</td>\n",
       "      <td>0.00</td>\n",
       "      <td>0</td>\n",
       "      <td>親友、員工或其他特殊關係間之交易。;</td>\n",
       "      <td>RPRNMLOKPHOFFHF56CA</td>\n",
       "    </tr>\n",
       "    <tr>\n",
       "      <th>656</th>\n",
       "      <td>瑞芳區</td>\n",
       "      <td>房地(土地+建物)+車位</td>\n",
       "      <td>新北市瑞芳區三爪子坑路142巷91~120號</td>\n",
       "      <td>78.54</td>\n",
       "      <td>NaN</td>\n",
       "      <td>鄉村區</td>\n",
       "      <td>乙種建築用地</td>\n",
       "      <td>1080429</td>\n",
       "      <td>土地1建物1車位2</td>\n",
       "      <td>一層，二層，三層</td>\n",
       "      <td>三層</td>\n",
       "      <td>透天厝</td>\n",
       "      <td>見其他登記事項</td>\n",
       "      <td>見其他登記事項</td>\n",
       "      <td>1060210.0</td>\n",
       "      <td>190.57</td>\n",
       "      <td>4</td>\n",
       "      <td>2</td>\n",
       "      <td>3</td>\n",
       "      <td>有</td>\n",
       "      <td>有</td>\n",
       "      <td>9600000</td>\n",
       "      <td>63505.0</td>\n",
       "      <td>坡道平面</td>\n",
       "      <td>64.28</td>\n",
       "      <td>1580000</td>\n",
       "      <td>NaN</td>\n",
       "      <td>RPRNMLTLPHOFFFF96CA</td>\n",
       "    </tr>\n",
       "    <tr>\n",
       "      <th>858</th>\n",
       "      <td>鶯歌區</td>\n",
       "      <td>房地(土地+建物)+車位</td>\n",
       "      <td>新北市鶯歌區鶯歌路91~120號</td>\n",
       "      <td>22.74</td>\n",
       "      <td>住</td>\n",
       "      <td>NaN</td>\n",
       "      <td>NaN</td>\n",
       "      <td>1080103</td>\n",
       "      <td>土地1建物1車位1</td>\n",
       "      <td>五層</td>\n",
       "      <td>十四層</td>\n",
       "      <td>住宅大樓(11層含以上有電梯)</td>\n",
       "      <td>見其他登記事項</td>\n",
       "      <td>鋼筋混凝土造</td>\n",
       "      <td>1080604.0</td>\n",
       "      <td>147.33</td>\n",
       "      <td>2</td>\n",
       "      <td>2</td>\n",
       "      <td>1</td>\n",
       "      <td>有</td>\n",
       "      <td>有</td>\n",
       "      <td>7460000</td>\n",
       "      <td>58911.0</td>\n",
       "      <td>坡道平面</td>\n",
       "      <td>46.16</td>\n",
       "      <td>1500000</td>\n",
       "      <td>NaN</td>\n",
       "      <td>RPPOMLKLQHOFFIF98CA</td>\n",
       "    </tr>\n",
       "    <tr>\n",
       "      <th>685</th>\n",
       "      <td>中和區</td>\n",
       "      <td>車位</td>\n",
       "      <td>新北市中和區景平路號</td>\n",
       "      <td>0.60</td>\n",
       "      <td>住</td>\n",
       "      <td>NaN</td>\n",
       "      <td>NaN</td>\n",
       "      <td>1080619</td>\n",
       "      <td>土地0建物0車位1</td>\n",
       "      <td>地下一層，地下二層，地下三層，地下四層</td>\n",
       "      <td>三十四層</td>\n",
       "      <td>其他</td>\n",
       "      <td>停車空間</td>\n",
       "      <td>鋼骨混凝土造</td>\n",
       "      <td>890529.0</td>\n",
       "      <td>37.94</td>\n",
       "      <td>0</td>\n",
       "      <td>0</td>\n",
       "      <td>0</td>\n",
       "      <td>有</td>\n",
       "      <td>有</td>\n",
       "      <td>2080000</td>\n",
       "      <td>NaN</td>\n",
       "      <td>坡道平面</td>\n",
       "      <td>37.94</td>\n",
       "      <td>2080000</td>\n",
       "      <td>NaN</td>\n",
       "      <td>RPPOMLLJQHOFFHF78CA</td>\n",
       "    </tr>\n",
       "    <tr>\n",
       "      <th>3006</th>\n",
       "      <td>新莊區</td>\n",
       "      <td>房地(土地+建物)</td>\n",
       "      <td>新北市新莊區民安西路91~120號</td>\n",
       "      <td>20.94</td>\n",
       "      <td>住</td>\n",
       "      <td>NaN</td>\n",
       "      <td>NaN</td>\n",
       "      <td>1080630</td>\n",
       "      <td>土地1建物1車位0</td>\n",
       "      <td>七層</td>\n",
       "      <td>九層</td>\n",
       "      <td>華廈(10層含以下有電梯)</td>\n",
       "      <td>住家用</td>\n",
       "      <td>鋼筋混凝土造</td>\n",
       "      <td>871118.0</td>\n",
       "      <td>103.18</td>\n",
       "      <td>3</td>\n",
       "      <td>1</td>\n",
       "      <td>1</td>\n",
       "      <td>有</td>\n",
       "      <td>有</td>\n",
       "      <td>9300000</td>\n",
       "      <td>90134.0</td>\n",
       "      <td>NaN</td>\n",
       "      <td>0.00</td>\n",
       "      <td>0</td>\n",
       "      <td>NaN</td>\n",
       "      <td>RPQNMLNLPHOFFBF48CA</td>\n",
       "    </tr>\n",
       "  </tbody>\n",
       "</table>\n",
       "</div>"
      ],
      "text/plain": [
       "     district subject of transaction  \\\n",
       "155       中和區              房地(土地+建物)   \n",
       "656       瑞芳區           房地(土地+建物)+車位   \n",
       "858       鶯歌區           房地(土地+建物)+車位   \n",
       "685       中和區                     車位   \n",
       "3006      新莊區              房地(土地+建物)   \n",
       "\n",
       "     location of land section or building area number  \\\n",
       "155                                   新北市中和區華福街31~60號   \n",
       "656                            新北市瑞芳區三爪子坑路142巷91~120號   \n",
       "858                                  新北市鶯歌區鶯歌路91~120號   \n",
       "685                                        新北市中和區景平路號   \n",
       "3006                                新北市新莊區民安西路91~120號   \n",
       "\n",
       "      total land transfer area square meters urban land use zoning  \\\n",
       "155                                    15.63                     住   \n",
       "656                                    78.54                   NaN   \n",
       "858                                    22.74                     住   \n",
       "685                                     0.60                     住   \n",
       "3006                                   20.94                     住   \n",
       "\n",
       "     non-urban land Use zoning non-urban land use planning  \\\n",
       "155                        NaN                         NaN   \n",
       "656                        鄉村區                      乙種建築用地   \n",
       "858                        NaN                         NaN   \n",
       "685                        NaN                         NaN   \n",
       "3006                       NaN                         NaN   \n",
       "\n",
       "      transaction year and month number of transaction pens  \\\n",
       "155                      1080704                  土地1建物1車位0   \n",
       "656                      1080429                  土地1建物1車位2   \n",
       "858                      1080103                  土地1建物1車位1   \n",
       "685                      1080619                  土地0建物0車位1   \n",
       "3006                     1080630                  土地1建物1車位0   \n",
       "\n",
       "           transfer level total floors    building type main use  \\\n",
       "155              一層，平台，騎樓           四層     公寓(5樓含以下無電梯)      住家用   \n",
       "656              一層，二層，三層           三層              透天厝  見其他登記事項   \n",
       "858                    五層          十四層  住宅大樓(11層含以上有電梯)  見其他登記事項   \n",
       "685   地下一層，地下二層，地下三層，地下四層         三十四層               其他     停車空間   \n",
       "3006                   七層           九層    華廈(10層含以下有電梯)      住家用   \n",
       "\n",
       "     main building material  year and month of completion of construction  \\\n",
       "155                    加強磚造                                      660128.0   \n",
       "656                 見其他登記事項                                     1060210.0   \n",
       "858                  鋼筋混凝土造                                     1080604.0   \n",
       "685                  鋼骨混凝土造                                      890529.0   \n",
       "3006                 鋼筋混凝土造                                      871118.0   \n",
       "\n",
       "      total area of building transfer square meters  construction status-room  \\\n",
       "155                                           71.86                         1   \n",
       "656                                          190.57                         4   \n",
       "858                                          147.33                         2   \n",
       "685                                           37.94                         0   \n",
       "3006                                         103.18                         3   \n",
       "\n",
       "      construction status-hall  construction status-bathroom  \\\n",
       "155                          1                             1   \n",
       "656                          2                             3   \n",
       "858                          2                             1   \n",
       "685                          0                             0   \n",
       "3006                         1                             1   \n",
       "\n",
       "     construction status-compartment with or without management organization  \\\n",
       "155                                有                                       無   \n",
       "656                                有                                       有   \n",
       "858                                有                                       有   \n",
       "685                                有                                       有   \n",
       "3006                               有                                       有   \n",
       "\n",
       "      total price  unit price per square meter parking category  \\\n",
       "155       4600000                      64013.0              NaN   \n",
       "656       9600000                      63505.0             坡道平面   \n",
       "858       7460000                      58911.0             坡道平面   \n",
       "685       2080000                          NaN             坡道平面   \n",
       "3006      9300000                      90134.0              NaN   \n",
       "\n",
       "      Car displacement to total area square meters  total parking price  \\\n",
       "155                                           0.00                    0   \n",
       "656                                          64.28              1580000   \n",
       "858                                          46.16              1500000   \n",
       "685                                          37.94              2080000   \n",
       "3006                                          0.00                    0   \n",
       "\n",
       "                 remarks              numbers  \n",
       "155   親友、員工或其他特殊關係間之交易。;  RPRNMLOKPHOFFHF56CA  \n",
       "656                  NaN  RPRNMLTLPHOFFFF96CA  \n",
       "858                  NaN  RPPOMLKLQHOFFIF98CA  \n",
       "685                  NaN  RPPOMLLJQHOFFHF78CA  \n",
       "3006                 NaN  RPQNMLNLPHOFFBF48CA  "
      ]
     },
     "execution_count": 1,
     "metadata": {},
     "output_type": "execute_result"
    }
   ],
   "source": [
    "import pandas as pd\n",
    "import numpy as np\n",
    "import matplotlib.pyplot as plt\n",
    "\n",
    "#作圖在jupyter notebook\n",
    "%matplotlib inline\n",
    "plt.style.use('ggplot')\n",
    "#plt.rcParams['font.family']='SimHei' #顯示中文\n",
    "plt.rcParams['axes.unicode_minus']=False #正常顯示負號\n",
    "\n",
    "pd.set_option(\"display.max_columns\",50) #設定pandas最多顯示出50個欄位資訊\n",
    "\n",
    "df = pd.read_csv('raw_dataframe.csv', encoding='UTF-8') #台北市\n",
    "df.rename(columns={'district':'district',\n",
    "                   'rps01':'subject of transaction',\n",
    "                   'rps02':'location of land section or building area number',\n",
    "                   'rps03':'total land transfer area square meters',\n",
    "                   'rps04':'urban land use zoning',\n",
    "                   'rps05':'non-urban land Use zoning',\n",
    "                   'rps06':'non-urban land use planning',\n",
    "                   'rps07':'transaction year and month',\n",
    "                   'rps08':'number of transaction pens',\n",
    "                   'rps09':'transfer level',\n",
    "                   'rps10':'total floors',\n",
    "                   'rps11':'building type',\n",
    "                   'rps12':'main use',\n",
    "                   'rps13':'main building material',\n",
    "                   'rps14':'year and month of completion of construction',\n",
    "                   'rps15':'total area of building transfer square meters',\n",
    "                   'rps16':'construction status-room',\n",
    "                   'rps17':'construction status-hall',\n",
    "                   'rps18':'construction status-bathroom',\n",
    "                   'rps19':'construction status-compartment',\n",
    "                   'rps20':'with or without management organization','rps21':'total price',\n",
    "                   'rps22':'unit price per square meter',\n",
    "                   'rps23':'parking category',\n",
    "                   'rps24':'Car displacement to total area square meters',\n",
    "                   'rps25':'total parking price',\n",
    "                   'rps26':'remarks',\n",
    "                   'rps27':'numbers'}, inplace = True)\n",
    "df.sample(5) #隨機取其中5筆資料"
   ]
  },
  {
   "cell_type": "code",
   "execution_count": 2,
   "metadata": {},
   "outputs": [
    {
     "data": {
      "text/plain": [
       "array(['板橋區', '新莊區', '汐止區', '三重區', '永和區', '中和區', '泰山區', '新店區', '蘆洲區',\n",
       "       '五股區', '鶯歌區', '樹林區', '淡水區', '萬里區', '土城區', '金山區', '三峽區', '林口區',\n",
       "       '貢寮區', '瑞芳區', '八里區', '深坑區', '雙溪區', '三芝區', '平溪區', '石碇區', '石門區',\n",
       "       '烏來區'], dtype=object)"
      ]
     },
     "execution_count": 2,
     "metadata": {},
     "output_type": "execute_result"
    }
   ],
   "source": [
    "df['district'].unique()"
   ]
  },
  {
   "cell_type": "code",
   "execution_count": 3,
   "metadata": {},
   "outputs": [],
   "source": [
    "df[\"district\"]= df[\"district\"].replace('板橋區', \"Banqiao\")\n",
    "df[\"district\"]= df[\"district\"].replace('土城區', \"Tucheng\")\n",
    "df[\"district\"]= df[\"district\"].replace('林口區', \"Linkou\")\n",
    "df[\"district\"]= df[\"district\"].replace('新莊區', \"Xinzhuang\")\n",
    "df[\"district\"]= df[\"district\"].replace('泰山區', \"Taishan\")\n",
    "df[\"district\"]= df[\"district\"].replace('五股區', \"Wugu\")\n",
    "df[\"district\"]= df[\"district\"].replace('新店區', \"Xindian\")\n",
    "df[\"district\"]= df[\"district\"].replace('深坑區', \"Shenkeng\")\n",
    "df[\"district\"]= df[\"district\"].replace('汐止區', \"Xizhi\")\n",
    "df[\"district\"]= df[\"district\"].replace('淡水區', \"Freshwater\")\n",
    "df[\"district\"]= df[\"district\"].replace('八里區', \"Bali\")\n",
    "df[\"district\"]= df[\"district\"].replace('三芝區', \"Sanzhi\")\n",
    "df[\"district\"]= df[\"district\"].replace('貢寮區', \"Gongliao\")\n",
    "df[\"district\"]= df[\"district\"].replace('三重區', \"Sanzhong\")\n",
    "df[\"district\"]= df[\"district\"].replace('蘆洲區', \"Luzhou\")\n",
    "df[\"district\"]= df[\"district\"].replace('中和區', \"Zhonghe\")\n",
    "df[\"district\"]= df[\"district\"].replace('永和區', \"Yonghe\")\n",
    "df[\"district\"]= df[\"district\"].replace('三峽區', \"Three Gorges\")\n",
    "df[\"district\"]= df[\"district\"].replace('鶯歌區', \"Yinge\")\n",
    "df[\"district\"]= df[\"district\"].replace('樹林區', \"Tree\")\n",
    "df[\"district\"]= df[\"district\"].replace('平溪區', \"Pingxi\")\n",
    "df[\"district\"]= df[\"district\"].replace('瑞芳區', \"Ruifang\")\n",
    "df[\"district\"]= df[\"district\"].replace('雙溪區', \"Shuangxi\")\n",
    "df[\"district\"]= df[\"district\"].replace('石碇區', \"Shiding\")\n",
    "df[\"district\"]= df[\"district\"].replace('萬里區', \"Wanli\")\n",
    "df[\"district\"]= df[\"district\"].replace('石門區', \"Shimen\")\n",
    "df[\"district\"]= df[\"district\"].replace('金山區', \"Jinshan\")\n",
    "df[\"district\"]= df[\"district\"].replace('烏來區', \"Wulai\")"
   ]
  },
  {
   "cell_type": "code",
   "execution_count": 4,
   "metadata": {},
   "outputs": [
    {
     "data": {
      "text/plain": [
       "array(['Banqiao', 'Xinzhuang', 'Xizhi', 'Sanzhong', 'Yonghe', 'Zhonghe',\n",
       "       'Taishan', 'Xindian', 'Luzhou', 'Wugu', 'Yinge', 'Tree',\n",
       "       'Freshwater', 'Wanli', 'Tucheng', 'Jinshan', 'Three Gorges',\n",
       "       'Linkou', 'Gongliao', 'Ruifang', 'Bali', 'Shenkeng', 'Shuangxi',\n",
       "       'Sanzhi', 'Pingxi', 'Shiding', 'Shimen', 'Wulai'], dtype=object)"
      ]
     },
     "execution_count": 4,
     "metadata": {},
     "output_type": "execute_result"
    }
   ],
   "source": [
    "df['district'].unique()"
   ]
  },
  {
   "cell_type": "code",
   "execution_count": 5,
   "metadata": {},
   "outputs": [
    {
     "data": {
      "text/plain": [
       "array(['房地(土地+建物)', '房地(土地+建物)+車位', '車位', '建物', '土地'], dtype=object)"
      ]
     },
     "execution_count": 5,
     "metadata": {},
     "output_type": "execute_result"
    }
   ],
   "source": [
    "df['subject of transaction'].unique()"
   ]
  },
  {
   "cell_type": "code",
   "execution_count": 6,
   "metadata": {},
   "outputs": [],
   "source": [
    "df[\"subject of transaction\"]= df[\"subject of transaction\"].replace('房地(土地+建物)', \"House and land (land + building)\")\n",
    "df[\"subject of transaction\"]= df[\"subject of transaction\"].replace('房地(土地+建物)+車位', \"House and land (land + building) + parking space\")\n",
    "df[\"subject of transaction\"]= df[\"subject of transaction\"].replace('土地', \"Land\")\n",
    "df[\"subject of transaction\"]= df[\"subject of transaction\"].replace('車位', \"car parking space\")\n",
    "df[\"subject of transaction\"]= df[\"subject of transaction\"].replace('建物', \"building\")"
   ]
  },
  {
   "cell_type": "code",
   "execution_count": 7,
   "metadata": {},
   "outputs": [
    {
     "data": {
      "text/plain": [
       "array(['House and land (land + building)',\n",
       "       'House and land (land + building) + parking space',\n",
       "       'car parking space', 'building', 'Land'], dtype=object)"
      ]
     },
     "execution_count": 7,
     "metadata": {},
     "output_type": "execute_result"
    }
   ],
   "source": [
    "df['subject of transaction'].unique()"
   ]
  },
  {
   "cell_type": "code",
   "execution_count": 8,
   "metadata": {},
   "outputs": [
    {
     "data": {
      "text/plain": [
       "array(['新北市板橋區中正路275巷62弄1~30號', '新北市板橋區懷德街76巷1~30號',\n",
       "       '新北市板橋區中山路二段89巷6弄1~30號', ..., '文林段991~1020地號', '博愛段361~390地號',\n",
       "       '樹新段61~90地號'], dtype=object)"
      ]
     },
     "execution_count": 8,
     "metadata": {},
     "output_type": "execute_result"
    }
   ],
   "source": [
    "df['location of land section or building area number'].unique()"
   ]
  },
  {
   "cell_type": "code",
   "execution_count": 9,
   "metadata": {},
   "outputs": [
    {
     "data": {
      "text/plain": [
       "array(['住', '其他', nan, '商', '工', '農'], dtype=object)"
      ]
     },
     "execution_count": 9,
     "metadata": {},
     "output_type": "execute_result"
    }
   ],
   "source": [
    "df['urban land use zoning'].unique()"
   ]
  },
  {
   "cell_type": "code",
   "execution_count": 10,
   "metadata": {},
   "outputs": [],
   "source": [
    "df[\"urban land use zoning\"]= df[\"urban land use zoning\"].replace('住', \"Living\")\n",
    "df[\"urban land use zoning\"]= df[\"urban land use zoning\"].replace('工', \"Factory\")\n",
    "df[\"urban land use zoning\"]= df[\"urban land use zoning\"].replace('商', \"Business\")\n",
    "df[\"urban land use zoning\"]= df[\"urban land use zoning\"].replace('農', \"Agriculture\")\n",
    "df[\"urban land use zoning\"]= df[\"urban land use zoning\"].replace('其他', \"Other\")"
   ]
  },
  {
   "cell_type": "code",
   "execution_count": 11,
   "metadata": {},
   "outputs": [
    {
     "data": {
      "text/plain": [
       "array(['Living', 'Other', nan, 'Business', 'Factory', 'Agriculture'],\n",
       "      dtype=object)"
      ]
     },
     "execution_count": 11,
     "metadata": {},
     "output_type": "execute_result"
    }
   ],
   "source": [
    "df['urban land use zoning'].unique()"
   ]
  },
  {
   "cell_type": "code",
   "execution_count": 12,
   "metadata": {},
   "outputs": [
    {
     "data": {
      "text/plain": [
       "array([nan, '山坡地保育區', '鄉村區', '工業區', '一般農業區', '特定農業區', '森林區', '國家公園區'],\n",
       "      dtype=object)"
      ]
     },
     "execution_count": 12,
     "metadata": {},
     "output_type": "execute_result"
    }
   ],
   "source": [
    "df['non-urban land Use zoning'].unique()"
   ]
  },
  {
   "cell_type": "code",
   "execution_count": 13,
   "metadata": {},
   "outputs": [],
   "source": [
    "df[\"non-urban land Use zoning\"]= df[\"non-urban land Use zoning\"].replace('山坡地保育區', \"hillside conservation area\")\n",
    "df[\"non-urban land Use zoning\"]= df[\"non-urban land Use zoning\"].replace('鄉村區', \"rural area\")\n",
    "df[\"non-urban land Use zoning\"]= df[\"non-urban land Use zoning\"].replace('一般農業區', \"general agricultural area\")\n",
    "df[\"non-urban land Use zoning\"]= df[\"non-urban land Use zoning\"].replace('特定農業區', \"specific agricultural area\")\n",
    "df[\"non-urban land Use zoning\"]= df[\"non-urban land Use zoning\"].replace('工業區', \"industrial area\")\n",
    "df[\"non-urban land Use zoning\"]= df[\"non-urban land Use zoning\"].replace('森林區', \"forest area\")\n",
    "df[\"non-urban land Use zoning\"]= df[\"non-urban land Use zoning\"].replace('國家公園區', \"national park area\")"
   ]
  },
  {
   "cell_type": "code",
   "execution_count": 14,
   "metadata": {},
   "outputs": [
    {
     "data": {
      "text/plain": [
       "array([nan, 'hillside conservation area', 'rural area', 'industrial area',\n",
       "       'general agricultural area', 'specific agricultural area',\n",
       "       'forest area', 'national park area'], dtype=object)"
      ]
     },
     "execution_count": 14,
     "metadata": {},
     "output_type": "execute_result"
    }
   ],
   "source": [
    "df['non-urban land Use zoning'].unique()"
   ]
  },
  {
   "cell_type": "code",
   "execution_count": 15,
   "metadata": {},
   "outputs": [
    {
     "data": {
      "text/plain": [
       "array([nan, '丙種建築用地', '乙種建築用地', '丁種建築用地', '甲種建築用地', '林業用地', '農牧用地',\n",
       "       '交通用地', '水利用地'], dtype=object)"
      ]
     },
     "execution_count": 15,
     "metadata": {},
     "output_type": "execute_result"
    }
   ],
   "source": [
    "df['non-urban land use planning'].unique()"
   ]
  },
  {
   "cell_type": "code",
   "execution_count": 16,
   "metadata": {},
   "outputs": [],
   "source": [
    "df[\"non-urban land use planning\"]= df[\"non-urban land use planning\"].replace('甲種建築用地', \"general agricultural\")\n",
    "df[\"non-urban land use planning\"]= df[\"non-urban land use planning\"].replace('乙種建築用地', \"rural\")\n",
    "df[\"non-urban land use planning\"]= df[\"non-urban land use planning\"].replace('丙種建築用地', \"hillside conservation\")\n",
    "df[\"non-urban land use planning\"]= df[\"non-urban land use planning\"].replace('丁種建築用地', \"specific agricultural\")\n",
    "df[\"non-urban land use planning\"]= df[\"non-urban land use planning\"].replace('農牧用地', \"general agricultural\")\n",
    "df[\"non-urban land use planning\"]= df[\"non-urban land use planning\"].replace('林業用地', \"forest\")\n",
    "df[\"non-urban land use planning\"]= df[\"non-urban land use planning\"].replace('交通用地', \"transformation\")\n",
    "df[\"non-urban land use planning\"]= df[\"non-urban land use planning\"].replace('水利用地', \"water\")"
   ]
  },
  {
   "cell_type": "code",
   "execution_count": 17,
   "metadata": {},
   "outputs": [
    {
     "data": {
      "text/plain": [
       "array([nan, 'hillside conservation', 'rural', 'specific agricultural',\n",
       "       'general agricultural', 'forest', 'transformation', 'water'],\n",
       "      dtype=object)"
      ]
     },
     "execution_count": 17,
     "metadata": {},
     "output_type": "execute_result"
    }
   ],
   "source": [
    "df['non-urban land use planning'].unique()"
   ]
  },
  {
   "cell_type": "code",
   "execution_count": 18,
   "metadata": {},
   "outputs": [
    {
     "data": {
      "text/plain": [
       "array(['土地2建物1車位0', '土地3建物1車位0', '土地4建物1車位0', '土地1建物1車位0', '土地4建物1車位1',\n",
       "       '土地5建物1車位0', '土地2建物2車位0', '土地1建物1車位1', '土地1建物2車位0', '土地10建物1車位1',\n",
       "       '土地1建物1車位2', '土地6建物1車位0', '土地1建物1車位3', '土地3建物1車位1', '土地7建物1車位0',\n",
       "       '土地8建物1車位0', '土地1建物1車位5', '土地2建物1車位1', '土地0建物0車位1', '土地1建物2車位1',\n",
       "       '土地10建物1車位2', '土地4建物2車位0', '土地7建物1車位1', '土地4建物1車位2', '土地9建物1車位0',\n",
       "       '土地1建物3車位0', '土地6建物1車位2', '土地14建物1車位2', '土地14建物1車位1', '土地5建物1車位1',\n",
       "       '土地2建物1車位2', '土地2建物2車位1', '土地8建物1車位1', '土地9建物1車位1', '土地0建物1車位1',\n",
       "       '土地1建物1車位4', '土地11建物1車位1', '土地22建物1車位1', '土地1建物3車位1', '土地3建物2車位0',\n",
       "       '土地0建物1車位0', '土地1建物2車位2', '土地1建物2車位9', '土地0建物0車位2', '土地1建物1車位6',\n",
       "       '土地1建物4車位0', '土地3建物1車位5', '土地8建物6車位1', '土地2建物2車位2', '土地3建物1車位2',\n",
       "       '土地3建物1車位3', '土地5建物1車位3', '土地0建物0車位3', '土地1建物2車位4', '土地1建物0車位0',\n",
       "       '土地3建物0車位0', '土地2建物0車位0', '土地10建物0車位0', '土地8建物0車位0', '土地27建物0車位0',\n",
       "       '土地15建物0車位0', '土地5建物0車位0', '土地21建物0車位0', '土地4建物0車位0', '土地6建物0車位0',\n",
       "       '土地13建物0車位0', '土地9建物0車位0', '土地7建物0車位0', '土地41建物0車位0', '土地30建物0車位0',\n",
       "       '土地11建物0車位0', '土地37建物0車位0', '土地18建物0車位0'], dtype=object)"
      ]
     },
     "execution_count": 18,
     "metadata": {},
     "output_type": "execute_result"
    }
   ],
   "source": [
    "df['number of transaction pens'].unique()"
   ]
  },
  {
   "cell_type": "code",
   "execution_count": 19,
   "metadata": {},
   "outputs": [],
   "source": [
    "df['number of transaction pens']=df['number of transaction pens'].str.replace('土地',\"ground\")\n",
    "df['number of transaction pens']=df['number of transaction pens'].str.replace('建物',\"xhouse\")\n",
    "df['number of transaction pens']=df['number of transaction pens'].str.replace('x',\" \")\n",
    "df['number of transaction pens']=df['number of transaction pens'].str.replace('車位',\"ypark\")\n",
    "df['number of transaction pens']=df['number of transaction pens'].str.replace('y',\" \")"
   ]
  },
  {
   "cell_type": "code",
   "execution_count": 20,
   "metadata": {},
   "outputs": [
    {
     "data": {
      "text/plain": [
       "0    ground2 house1 park0\n",
       "1    ground3 house1 park0\n",
       "2    ground2 house1 park0\n",
       "3    ground4 house1 park0\n",
       "4    ground1 house1 park0\n",
       "Name: number of transaction pens, dtype: object"
      ]
     },
     "execution_count": 20,
     "metadata": {},
     "output_type": "execute_result"
    }
   ],
   "source": [
    "df['number of transaction pens'].head()"
   ]
  },
  {
   "cell_type": "code",
   "execution_count": 21,
   "metadata": {},
   "outputs": [
    {
     "data": {
      "text/plain": [
       "array(['四層，陽台', '一層', '三層', '二層，陽台', '四層', '三層，陽台', '一層，騎樓', '一層，平台',\n",
       "       '二層', '一層，二層，地下層', '一層，二層，三層，四層', '一層，平台，騎樓', '四層，平台', '一層，二層',\n",
       "       '三層，四層', '三層，走廊', '三十一層', '九層', '二十九層', '十六層', '二十五層', '三十八層',\n",
       "       '地下六層', '五層', '地下一層', '六層', '地下層', '一層，二層，三層，四層，五層', '二層，三層',\n",
       "       '一層，地下層', '五層，陽台', '一層，地下一層', '五層，夾層', '四層，五層', '一層，騎樓，停車場',\n",
       "       '一層，騎樓，地下層', '四層，五層，夾層', '三層，四層，五層', '一層，二層，地下一層', '夾層，一層，二層',\n",
       "       '一層，停車場', '五層，見使用執照', '一層，二層，三層', '一層，見其他登記事項', '一層，二層，三層，騎樓',\n",
       "       '二層，騎樓', '地下一層，地下二層，地下三層，地下四層', '二十二層', '三十五層', '七層', '八層', '十四層',\n",
       "       '三十二層', '十層', '二十六層', '二十層', '二十七層', '三十層', '三十層，三十一層', '二十八層',\n",
       "       '二十一層', '十層，夾層', '五層，六層', '八層，夾層', '十三層', '十一層', '十二層', '七層，八層',\n",
       "       '七層，電梯樓梯間', '地下一層，地下二層', '十五層', '電梯樓梯間，十三層', '地下二層', '十二層，十三層',\n",
       "       '十三層，見其他登記事項', '十八層',\n",
       "       '九層，十層，一層，二層，三層，四層，五層，六層，七層，八層，十一層，十二層，十三層，十四層，十五層', '十七層',\n",
       "       '十五層，一層，三層，二層，四層，六層，八層，十層，十二層，十四層，十三層，十一層，九層，七層，五層', '十七層，十八層',\n",
       "       '七層，八層，一層，二層，三層，四層，五層，六層，九層，十層，十一層，十二層，十三層，十四層，十五層', '六層，陽台',\n",
       "       '十一層，十二層', '七層，陽台', '一層，夾層', '十二層，見其他登記事項', '地下二層，地下三層', '十九層',\n",
       "       '地下四層，地下五層', '一層，二層，陽台，平台，防空避難室', '一層，二層，騎樓', '二層，一層', '二十三層',\n",
       "       '二十四層', '一層，騎樓，見其他登記事項', '地下四層', '二十二層，二十三層', '二十一層，二十二層', '地下三層',\n",
       "       '九層，十層', '六層，見其他登記事項', '七層，見其他登記事項', nan], dtype=object)"
      ]
     },
     "execution_count": 21,
     "metadata": {},
     "output_type": "execute_result"
    }
   ],
   "source": [
    "df['transfer level'].unique()"
   ]
  },
  {
   "cell_type": "code",
   "execution_count": 22,
   "metadata": {},
   "outputs": [
    {
     "data": {
      "text/html": [
       "<div>\n",
       "<style scoped>\n",
       "    .dataframe tbody tr th:only-of-type {\n",
       "        vertical-align: middle;\n",
       "    }\n",
       "\n",
       "    .dataframe tbody tr th {\n",
       "        vertical-align: top;\n",
       "    }\n",
       "\n",
       "    .dataframe thead th {\n",
       "        text-align: right;\n",
       "    }\n",
       "</style>\n",
       "<table border=\"1\" class=\"dataframe\">\n",
       "  <thead>\n",
       "    <tr style=\"text-align: right;\">\n",
       "      <th></th>\n",
       "      <th>district</th>\n",
       "      <th>subject of transaction</th>\n",
       "      <th>location of land section or building area number</th>\n",
       "      <th>total land transfer area square meters</th>\n",
       "      <th>urban land use zoning</th>\n",
       "      <th>non-urban land Use zoning</th>\n",
       "      <th>non-urban land use planning</th>\n",
       "      <th>transaction year and month</th>\n",
       "      <th>number of transaction pens</th>\n",
       "      <th>transfer level</th>\n",
       "      <th>total floors</th>\n",
       "      <th>building type</th>\n",
       "      <th>main use</th>\n",
       "      <th>main building material</th>\n",
       "      <th>year and month of completion of construction</th>\n",
       "      <th>total area of building transfer square meters</th>\n",
       "      <th>construction status-room</th>\n",
       "      <th>construction status-hall</th>\n",
       "      <th>construction status-bathroom</th>\n",
       "      <th>construction status-compartment</th>\n",
       "      <th>with or without management organization</th>\n",
       "      <th>total price</th>\n",
       "      <th>unit price per square meter</th>\n",
       "      <th>parking category</th>\n",
       "      <th>Car displacement to total area square meters</th>\n",
       "      <th>total parking price</th>\n",
       "      <th>remarks</th>\n",
       "      <th>numbers</th>\n",
       "    </tr>\n",
       "  </thead>\n",
       "  <tbody>\n",
       "  </tbody>\n",
       "</table>\n",
       "</div>"
      ],
      "text/plain": [
       "Empty DataFrame\n",
       "Columns: [district, subject of transaction, location of land section or building area number, total land transfer area square meters, urban land use zoning, non-urban land Use zoning, non-urban land use planning, transaction year and month, number of transaction pens, transfer level, total floors, building type, main use, main building material, year and month of completion of construction, total area of building transfer square meters, construction status-room, construction status-hall, construction status-bathroom, construction status-compartment, with or without management organization, total price, unit price per square meter, parking category, Car displacement to total area square meters, total parking price, remarks, numbers]\n",
       "Index: []"
      ]
     },
     "execution_count": 22,
     "metadata": {},
     "output_type": "execute_result"
    }
   ],
   "source": [
    "df.loc[lambda df: df['transfer level']=='全']"
   ]
  },
  {
   "cell_type": "code",
   "execution_count": 23,
   "metadata": {},
   "outputs": [],
   "source": [
    "df['transfer level']=df['transfer level'].str.replace('，見其他登記事項',\" \")\n",
    "df['transfer level']=df['transfer level'].str.replace('，陽台',\" \")\n",
    "df['transfer level']=df['transfer level'].str.replace('，電梯樓梯間',\" \")\n",
    "df['transfer level']=df['transfer level'].str.replace('電梯樓梯間',\" \")\n",
    "df['transfer level']=df['transfer level'].str.replace('，平台',\" \")\n",
    "df['transfer level']=df['transfer level'].str.replace('，騎樓',\" \")\n",
    "df['transfer level']=df['transfer level'].str.replace('，夾層',\" \")\n",
    "df['transfer level']=df['transfer level'].str.replace('，停車場',\" \")\n",
    "df['transfer level']=df['transfer level'].str.replace('，防空避難室',\" \")\n",
    "df['transfer level']=df['transfer level'].str.replace('見使用執照',\" \")\n",
    "df['transfer level']=df['transfer level'].str.replace('走廊',\" \")\n",
    "df['transfer level']=df['transfer level'].str.replace('夾層',\" \")"
   ]
  },
  {
   "cell_type": "code",
   "execution_count": 24,
   "metadata": {},
   "outputs": [],
   "source": [
    "df['transfer level']=df['transfer level'].str.replace('，',\",\")\n",
    "df['transfer level']=df['transfer level'].str.replace('地下六層',\"-6\")\n",
    "df['transfer level']=df['transfer level'].str.replace('地下五層',\"-5\")\n",
    "df['transfer level']=df['transfer level'].str.replace('地下四層',\"-4\")\n",
    "df['transfer level']=df['transfer level'].str.replace('地下三層',\"-3\")\n",
    "df['transfer level']=df['transfer level'].str.replace('地下二層',\"-2\")\n",
    "df['transfer level']=df['transfer level'].str.replace('地下一層',\"-1\")\n",
    "df['transfer level']=df['transfer level'].str.replace('地下層',\"-1\")\n",
    "\n",
    "\n",
    "df['transfer level']=df['transfer level'].str.replace('三十八層',\"38\")\n",
    "df['transfer level']=df['transfer level'].str.replace('三十五層',\"35\")\n",
    "df['transfer level']=df['transfer level'].str.replace('三十二層',\"32\")\n",
    "df['transfer level']=df['transfer level'].str.replace('三十一層',\"31\")\n",
    "df['transfer level']=df['transfer level'].str.replace('三十層',\"30\")\n",
    "df['transfer level']=df['transfer level'].str.replace('二十一層',\"21\")\n",
    "df['transfer level']=df['transfer level'].str.replace('二十二層',\"22\")\n",
    "df['transfer level']=df['transfer level'].str.replace('二十三層',\"23\")\n",
    "df['transfer level']=df['transfer level'].str.replace('二十四層',\"24\")\n",
    "df['transfer level']=df['transfer level'].str.replace('二十五層',\"25\")\n",
    "df['transfer level']=df['transfer level'].str.replace('二十六層',\"26\")\n",
    "df['transfer level']=df['transfer level'].str.replace('二十七層',\"27\")\n",
    "df['transfer level']=df['transfer level'].str.replace('二十八層',\"28\")\n",
    "df['transfer level']=df['transfer level'].str.replace('二十九層',\"29\")\n",
    "df['transfer level']=df['transfer level'].str.replace('二十層',\"20\")\n",
    "df['transfer level']=df['transfer level'].str.replace('十一層',\"11\")\n",
    "df['transfer level']=df['transfer level'].str.replace('十二層',\"12\")\n",
    "df['transfer level']=df['transfer level'].str.replace('十三層',\"13\")\n",
    "df['transfer level']=df['transfer level'].str.replace('十四層',\"14\")\n",
    "df['transfer level']=df['transfer level'].str.replace('十五層',\"15\")\n",
    "df['transfer level']=df['transfer level'].str.replace('十六層',\"16\")\n",
    "df['transfer level']=df['transfer level'].str.replace('十七層',\"17\")\n",
    "df['transfer level']=df['transfer level'].str.replace('十八層',\"18\")\n",
    "df['transfer level']=df['transfer level'].str.replace('十九層',\"19\")\n",
    "\n",
    "\n",
    "\n",
    "\n",
    "\n",
    "\n",
    "\n",
    "\n",
    "\n",
    "\n",
    "\n",
    "df['transfer level']=df['transfer level'].str.replace('一層',\"1\")\n",
    "df['transfer level']=df['transfer level'].str.replace('二層',\"2\")\n",
    "df['transfer level']=df['transfer level'].str.replace('三層',\"3\")\n",
    "df['transfer level']=df['transfer level'].str.replace('四層',\"4\")\n",
    "df['transfer level']=df['transfer level'].str.replace('五層',\"5\")\n",
    "df['transfer level']=df['transfer level'].str.replace('六層',\"6\")\n",
    "df['transfer level']=df['transfer level'].str.replace('七層',\"7\")\n",
    "df['transfer level']=df['transfer level'].str.replace('八層',\"8\")\n",
    "df['transfer level']=df['transfer level'].str.replace('九層',\"9\")\n",
    "df['transfer level']=df['transfer level'].str.replace('十層',\"10\")\n",
    "\n",
    "\n",
    "\n"
   ]
  },
  {
   "cell_type": "code",
   "execution_count": 25,
   "metadata": {},
   "outputs": [
    {
     "data": {
      "text/plain": [
       "array(['4 ', '1', '3', '2 ', '4', '3 ', '1 ', '2', '1,2,-1', '1,2,3,4',\n",
       "       '1  ', '1,2', '3,4', '3, ', '31', '9', '29', '16', '25', '38',\n",
       "       '-6', '5', '-1', '6', '1,2,3,4,5', '2,3', '1,-1', '5 ', '4,5',\n",
       "       '1 ,-1', '4,5 ', '3,4,5', ' ,1,2', '5, ', '1,2,3', '1,2,3 ',\n",
       "       '-1,-2,-3,-4', '22', '35', '7', '8', '14', '32', '10', '26', '20',\n",
       "       '27', '30', '30,31', '28', '21', '10 ', '5,6', '8 ', '13', '11',\n",
       "       '12', '7,8', '7 ', '-1,-2', '15', ' ,13', '-2', '12,13', '13 ',\n",
       "       '18', '9,10,1,2,3,4,5,6,7,8,11,12,13,14,15', '17',\n",
       "       '15,1,3,2,4,6,8,10,12,14,13,11,9,7,5', '17,18',\n",
       "       '7,8,1,2,3,4,5,6,9,10,11,12,13,14,15', '6 ', '11,12', '12 ',\n",
       "       '-2,-3', '19', '-4,-5', '1,2   ', '1,2 ', '2,1', '23', '24', '-4',\n",
       "       '22,23', '21,22', '-3', '9,10', nan], dtype=object)"
      ]
     },
     "execution_count": 25,
     "metadata": {},
     "output_type": "execute_result"
    }
   ],
   "source": [
    "df['transfer level'].unique()"
   ]
  },
  {
   "cell_type": "code",
   "execution_count": 26,
   "metadata": {},
   "outputs": [
    {
     "data": {
      "text/plain": [
       "array(['四層', '四十層', '四十三層', '四十一層', '六層', '五層', '三層', '三十四層', '三十六層',\n",
       "       '三十五層', '三十三層', '三十二層', '三十七層', '三十一層', '十層', '十四層', '十六層', '十五層',\n",
       "       '十三層', '十八層', '十二層', '十九層', '十七層', '十一層', '八層', '二層', '二十層',\n",
       "       '二十四層', '二十六層', '二十五層', '二十三層', '二十八層', '二十二層', '二十九層', '二十七層',\n",
       "       '二十一層', '九層', '七層', '一層', nan], dtype=object)"
      ]
     },
     "execution_count": 26,
     "metadata": {},
     "output_type": "execute_result"
    }
   ],
   "source": [
    "df['total floors'].unique()"
   ]
  },
  {
   "cell_type": "code",
   "execution_count": 27,
   "metadata": {},
   "outputs": [],
   "source": [
    "\n",
    "df['total floors']=df['total floors'].str.replace('四十三層',\"43\")\n",
    "df['total floors']=df['total floors'].str.replace('四十一層',\"41\")\n",
    "df['total floors']=df['total floors'].str.replace('四十層',\"40\")\n",
    "\n",
    "\n",
    "\n",
    "df['total floors']=df['total floors'].str.replace('三十七層',\"38\")\n",
    "df['total floors']=df['total floors'].str.replace('三十六層',\"35\")\n",
    "df['total floors']=df['total floors'].str.replace('三十五層',\"35\")\n",
    "df['total floors']=df['total floors'].str.replace('三十四層',\"34\")\n",
    "df['total floors']=df['total floors'].str.replace('三十三層',\"33\")\n",
    "df['total floors']=df['total floors'].str.replace('三十二層',\"32\")\n",
    "df['total floors']=df['total floors'].str.replace('三十一層',\"31\")\n",
    "\n",
    "df['total floors']=df['total floors'].str.replace('二十一層',\"21\")\n",
    "df['total floors']=df['total floors'].str.replace('二十二層',\"22\")\n",
    "df['total floors']=df['total floors'].str.replace('二十三層',\"23\")\n",
    "df['total floors']=df['total floors'].str.replace('二十四層',\"24\")\n",
    "df['total floors']=df['total floors'].str.replace('二十五層',\"25\")\n",
    "df['total floors']=df['total floors'].str.replace('二十六層',\"26\")\n",
    "df['total floors']=df['total floors'].str.replace('二十七層',\"27\")\n",
    "df['total floors']=df['total floors'].str.replace('二十八層',\"28\")\n",
    "df['total floors']=df['total floors'].str.replace('二十九層',\"29\")\n",
    "df['total floors']=df['total floors'].str.replace('二十層',\"20\")\n",
    "\n",
    "df['total floors']=df['total floors'].str.replace('十一層',\"11\")\n",
    "df['total floors']=df['total floors'].str.replace('十二層',\"12\")\n",
    "df['total floors']=df['total floors'].str.replace('十三層',\"13\")\n",
    "df['total floors']=df['total floors'].str.replace('十四層',\"14\")\n",
    "df['total floors']=df['total floors'].str.replace('十五層',\"15\")\n",
    "df['total floors']=df['total floors'].str.replace('十六層',\"16\")\n",
    "df['total floors']=df['total floors'].str.replace('十七層',\"17\")\n",
    "df['total floors']=df['total floors'].str.replace('十八層',\"18\")\n",
    "df['total floors']=df['total floors'].str.replace('十九層',\"19\")\n",
    "df['total floors']=df['total floors'].str.replace('十層',\"10\")\n",
    "\n",
    "df['total floors']=df['total floors'].str.replace('一層',\"1\")\n",
    "df['total floors']=df['total floors'].str.replace('二層',\"2\")\n",
    "df['total floors']=df['total floors'].str.replace('三層',\"3\")\n",
    "df['total floors']=df['total floors'].str.replace('四層',\"4\")\n",
    "df['total floors']=df['total floors'].str.replace('五層',\"5\")\n",
    "df['total floors']=df['total floors'].str.replace('六層',\"6\")\n",
    "df['total floors']=df['total floors'].str.replace('七層',\"7\")\n",
    "df['total floors']=df['total floors'].str.replace('八層',\"8\")\n",
    "df['total floors']=df['total floors'].str.replace('九層',\"9\")"
   ]
  },
  {
   "cell_type": "code",
   "execution_count": 28,
   "metadata": {},
   "outputs": [
    {
     "data": {
      "text/plain": [
       "array(['4', '40', '43', '41', '6', '5', '3', '34', '35', '33', '32', '38',\n",
       "       '31', '10', '14', '16', '15', '13', '18', '12', '19', '17', '11',\n",
       "       '8', '2', '20', '24', '26', '25', '23', '28', '22', '29', '27',\n",
       "       '21', '9', '7', '1', nan], dtype=object)"
      ]
     },
     "execution_count": 28,
     "metadata": {},
     "output_type": "execute_result"
    }
   ],
   "source": [
    "df['total floors'].unique()"
   ]
  },
  {
   "cell_type": "code",
   "execution_count": 29,
   "metadata": {},
   "outputs": [
    {
     "data": {
      "text/plain": [
       "array(['4 ', '1', '3', '2 ', '4', '3 ', '1 ', '2', '1,2,-1', '1,2,3,4',\n",
       "       '1  ', '1,2', '3,4', '3, ', '31', '9', '29', '16', '25', '38',\n",
       "       '-6', '5', '-1', '6', '1,2,3,4,5', '2,3', '1,-1', '5 ', '4,5',\n",
       "       '1 ,-1', '4,5 ', '3,4,5', ' ,1,2', '5, ', '1,2,3', '1,2,3 ',\n",
       "       '-1,-2,-3,-4', '22', '35', '7', '8', '14', '32', '10', '26', '20',\n",
       "       '27', '30', '30,31', '28', '21', '10 ', '5,6', '8 ', '13', '11',\n",
       "       '12', '7,8', '7 ', '-1,-2', '15', ' ,13', '-2', '12,13', '13 ',\n",
       "       '18', '9,10,1,2,3,4,5,6,7,8,11,12,13,14,15', '17',\n",
       "       '15,1,3,2,4,6,8,10,12,14,13,11,9,7,5', '17,18',\n",
       "       '7,8,1,2,3,4,5,6,9,10,11,12,13,14,15', '6 ', '11,12', '12 ',\n",
       "       '-2,-3', '19', '-4,-5', '1,2   ', '1,2 ', '2,1', '23', '24', '-4',\n",
       "       '22,23', '21,22', '-3', '9,10', nan], dtype=object)"
      ]
     },
     "execution_count": 29,
     "metadata": {},
     "output_type": "execute_result"
    }
   ],
   "source": [
    "df['transfer level'].unique()"
   ]
  },
  {
   "cell_type": "code",
   "execution_count": 30,
   "metadata": {},
   "outputs": [
    {
     "data": {
      "text/plain": [
       "array(['公寓(5樓含以下無電梯)', '店面(店鋪)', '華廈(10層含以下有電梯)', '透天厝', '套房(1房1廳1衛)',\n",
       "       '住宅大樓(11層含以上有電梯)', '其他', '廠辦', '工廠', '辦公商業大樓'], dtype=object)"
      ]
     },
     "execution_count": 30,
     "metadata": {},
     "output_type": "execute_result"
    }
   ],
   "source": [
    "df['building type'].unique()"
   ]
  },
  {
   "cell_type": "code",
   "execution_count": 31,
   "metadata": {},
   "outputs": [],
   "source": [
    "df['building type']=df['building type'].replace('公寓(5樓含以下無電梯)',\"apartment\")\n",
    "df['building type']=df['building type'].replace('住宅大樓(11層含以上有電梯)',\"residential building\")\n",
    "df['building type']=df['building type'].replace('其他',\"other\")\n",
    "df['building type']=df['building type'].replace('套房(1房1廳1衛)',\"suite\")\n",
    "df['building type']=df['building type'].replace('廠辦',\"office\")\n",
    "df['building type']=df['building type'].replace('華廈(10層含以下有電梯)',\"mansion\")\n",
    "df['building type']=df['building type'].replace('店面(店鋪)',\"vendor\")\n",
    "df['building type']=df['building type'].replace('透天厝',\"house\")\n",
    "df['building type']=df['building type'].replace('辦公商業大樓',\"office\")\n",
    "df['building type']=df['building type'].replace('工廠',\"factory\")"
   ]
  },
  {
   "cell_type": "code",
   "execution_count": 32,
   "metadata": {},
   "outputs": [
    {
     "data": {
      "text/plain": [
       "array(['apartment', 'vendor', 'mansion', 'house', 'suite',\n",
       "       'residential building', 'other', 'office', 'factory'], dtype=object)"
      ]
     },
     "execution_count": 32,
     "metadata": {},
     "output_type": "execute_result"
    }
   ],
   "source": [
    "df['building type'].unique()"
   ]
  },
  {
   "cell_type": "code",
   "execution_count": 33,
   "metadata": {},
   "outputs": [
    {
     "data": {
      "text/plain": [
       "array(['有', '無'], dtype=object)"
      ]
     },
     "execution_count": 33,
     "metadata": {},
     "output_type": "execute_result"
    }
   ],
   "source": [
    "df['construction status-compartment'].unique()"
   ]
  },
  {
   "cell_type": "code",
   "execution_count": 34,
   "metadata": {},
   "outputs": [
    {
     "data": {
      "text/plain": [
       "0    Yes\n",
       "1     No\n",
       "2    Yes\n",
       "3    Yes\n",
       "4    Yes\n",
       "Name: construction status-compartment, dtype: object"
      ]
     },
     "execution_count": 34,
     "metadata": {},
     "output_type": "execute_result"
    }
   ],
   "source": [
    "df['construction status-compartment']=df['construction status-compartment'].replace('有',\"Yes\")\n",
    "df['construction status-compartment']=df['construction status-compartment'].replace('無',\"No\")\n",
    "df['construction status-compartment'].head()"
   ]
  },
  {
   "cell_type": "code",
   "execution_count": 35,
   "metadata": {},
   "outputs": [
    {
     "data": {
      "text/plain": [
       "array(['無', '有'], dtype=object)"
      ]
     },
     "execution_count": 35,
     "metadata": {},
     "output_type": "execute_result"
    }
   ],
   "source": [
    "df['with or without management organization'].unique()"
   ]
  },
  {
   "cell_type": "code",
   "execution_count": 36,
   "metadata": {},
   "outputs": [
    {
     "data": {
      "text/plain": [
       "0    No\n",
       "1    No\n",
       "2    No\n",
       "3    No\n",
       "4    No\n",
       "Name: with or without management organization, dtype: object"
      ]
     },
     "execution_count": 36,
     "metadata": {},
     "output_type": "execute_result"
    }
   ],
   "source": [
    "df['with or without management organization']=df['with or without management organization'].replace('有',\"Yes\")\n",
    "df['with or without management organization']=df['with or without management organization'].replace('無',\"No\")\n",
    "df['with or without management organization'].head()"
   ]
  },
  {
   "cell_type": "code",
   "execution_count": 37,
   "metadata": {},
   "outputs": [
    {
     "data": {
      "text/plain": [
       "array(['住家用', '商業用', '見其他登記事項', '住商用', '工業用', '見使用執照', '住工用', nan, '停車空間',\n",
       "       '工商用'], dtype=object)"
      ]
     },
     "execution_count": 37,
     "metadata": {},
     "output_type": "execute_result"
    }
   ],
   "source": [
    "df['main use'].unique()"
   ]
  },
  {
   "cell_type": "code",
   "execution_count": 38,
   "metadata": {},
   "outputs": [],
   "source": [
    "df['main use']=df['main use'].replace('住家用',\"living\")\n",
    "df['main use']=df['main use'].replace('見其他登記事項',\"other\")\n",
    "df['main use']=df['main use'].replace('工業用',\"factory\")\n",
    "df['main use']=df['main use'].replace('商業用',\"business\")\n",
    "df['main use']=df['main use'].replace('停車空間',\"parking\")\n",
    "df['main use']=df['main use'].replace('住商用',\"business\")\n",
    "df['main use']=df['main use'].replace('住工用',\"factory\")\n",
    "df['main use']=df['main use'].replace('工商用',\"business\")\n",
    "df['main use']=df['main use'].replace('住工用',\"factory\")\n",
    "df['main use']=df['main use'].replace('見使用執照',\"other\")"
   ]
  },
  {
   "cell_type": "code",
   "execution_count": 39,
   "metadata": {},
   "outputs": [
    {
     "data": {
      "text/plain": [
       "array(['living', 'business', 'other', 'factory', nan, 'parking'],\n",
       "      dtype=object)"
      ]
     },
     "execution_count": 39,
     "metadata": {},
     "output_type": "execute_result"
    }
   ],
   "source": [
    "df['main use'].unique()"
   ]
  },
  {
   "cell_type": "code",
   "execution_count": 40,
   "metadata": {},
   "outputs": [
    {
     "data": {
      "text/plain": [
       "array(['鋼筋混凝土造', '見其他登記事項', '加強磚造', '鋼筋混凝土加強磚造', '鋼骨鋼筋混凝土造', '磚造',\n",
       "       '鋼骨混凝土造', '鋼造', nan], dtype=object)"
      ]
     },
     "execution_count": 40,
     "metadata": {},
     "output_type": "execute_result"
    }
   ],
   "source": [
    "df['main building material'].unique()"
   ]
  },
  {
   "cell_type": "code",
   "execution_count": 41,
   "metadata": {},
   "outputs": [],
   "source": [
    "df['main building material']=df['main building material'].replace('鋼筋混凝土造',\"reinforced concrete construction\")\n",
    "df['main building material']=df['main building material'].replace('鋼骨鋼筋混凝土造',\"steel reinforced concrete construction\")\n",
    "df['main building material']=df['main building material'].replace('加強磚造',\"strengthen brickwork\")\n",
    "df['main building material']=df['main building material'].replace('鋼骨混凝土造',\"steel reinforced concrete\")\n",
    "df['main building material']=df['main building material'].replace('鋼造',\"steel\")\n",
    "df['main building material']=df['main building material'].replace('磚造',\"brick building\")\n",
    "df['main building material']=df['main building material'].replace('鋼筋混凝土加強磚造',\"reinforced concrete reinforced brickwork\")\n",
    "df['main building material']=df['main building material'].replace('見其他登記事項',\"other\")"
   ]
  },
  {
   "cell_type": "code",
   "execution_count": 42,
   "metadata": {},
   "outputs": [
    {
     "data": {
      "text/plain": [
       "array(['reinforced concrete construction', 'other',\n",
       "       'strengthen brickwork', 'reinforced concrete reinforced brickwork',\n",
       "       'steel reinforced concrete construction', 'brick building',\n",
       "       'steel reinforced concrete', 'steel', nan], dtype=object)"
      ]
     },
     "execution_count": 42,
     "metadata": {},
     "output_type": "execute_result"
    }
   ],
   "source": [
    "df['main building material'].unique()"
   ]
  },
  {
   "cell_type": "code",
   "execution_count": 43,
   "metadata": {},
   "outputs": [
    {
     "data": {
      "text/plain": [
       "array([nan, '坡道平面', '其他', '坡道機械', '升降平面', '一樓平面', '升降機械', '塔式車位'],\n",
       "      dtype=object)"
      ]
     },
     "execution_count": 43,
     "metadata": {},
     "output_type": "execute_result"
    }
   ],
   "source": [
    "df['parking category'].unique()"
   ]
  },
  {
   "cell_type": "code",
   "execution_count": 44,
   "metadata": {},
   "outputs": [],
   "source": [
    "df['parking category']=df['parking category'].replace('坡道平面',\"parking area\")\n",
    "df['parking category']=df['parking category'].replace('一樓平面',\"garage\")\n",
    "df['parking category']=df['parking category'].replace('坡道機械',\"mechanical and stereoscopic garage\")\n",
    "df['parking category']=df['parking category'].replace('升降機械',\"mechanical and stereoscopic garage\")\n",
    "df['parking category']=df['parking category'].replace('升降平面',\"mechanical and stereoscopic garage\")\n",
    "df['parking category']=df['parking category'].replace('塔式車位',\"Vertical lifting mechanical parking system\")\n",
    "df['parking category']=df['parking category'].replace('其他',\"other\")"
   ]
  },
  {
   "cell_type": "code",
   "execution_count": 45,
   "metadata": {},
   "outputs": [
    {
     "data": {
      "text/plain": [
       "array([nan, 'parking area', 'other', 'mechanical and stereoscopic garage',\n",
       "       'garage', 'Vertical lifting mechanical parking system'],\n",
       "      dtype=object)"
      ]
     },
     "execution_count": 45,
     "metadata": {},
     "output_type": "execute_result"
    }
   ],
   "source": [
    "df['parking category'].unique()"
   ]
  },
  {
   "cell_type": "code",
   "execution_count": 46,
   "metadata": {},
   "outputs": [],
   "source": [
    "df=df.drop(['location of land section or building area number', 'remarks'], axis=1)"
   ]
  },
  {
   "cell_type": "code",
   "execution_count": 47,
   "metadata": {
    "scrolled": true
   },
   "outputs": [
    {
     "data": {
      "text/html": [
       "<div>\n",
       "<style scoped>\n",
       "    .dataframe tbody tr th:only-of-type {\n",
       "        vertical-align: middle;\n",
       "    }\n",
       "\n",
       "    .dataframe tbody tr th {\n",
       "        vertical-align: top;\n",
       "    }\n",
       "\n",
       "    .dataframe thead th {\n",
       "        text-align: right;\n",
       "    }\n",
       "</style>\n",
       "<table border=\"1\" class=\"dataframe\">\n",
       "  <thead>\n",
       "    <tr style=\"text-align: right;\">\n",
       "      <th></th>\n",
       "      <th>district</th>\n",
       "      <th>subject of transaction</th>\n",
       "      <th>total land transfer area square meters</th>\n",
       "      <th>urban land use zoning</th>\n",
       "      <th>non-urban land Use zoning</th>\n",
       "      <th>non-urban land use planning</th>\n",
       "      <th>transaction year and month</th>\n",
       "      <th>number of transaction pens</th>\n",
       "      <th>transfer level</th>\n",
       "      <th>total floors</th>\n",
       "      <th>building type</th>\n",
       "      <th>main use</th>\n",
       "      <th>main building material</th>\n",
       "      <th>year and month of completion of construction</th>\n",
       "      <th>total area of building transfer square meters</th>\n",
       "      <th>construction status-room</th>\n",
       "      <th>construction status-hall</th>\n",
       "      <th>construction status-bathroom</th>\n",
       "      <th>construction status-compartment</th>\n",
       "      <th>with or without management organization</th>\n",
       "      <th>total price</th>\n",
       "      <th>unit price per square meter</th>\n",
       "      <th>parking category</th>\n",
       "      <th>Car displacement to total area square meters</th>\n",
       "      <th>total parking price</th>\n",
       "      <th>numbers</th>\n",
       "    </tr>\n",
       "  </thead>\n",
       "  <tbody>\n",
       "    <tr>\n",
       "      <th>0</th>\n",
       "      <td>Banqiao</td>\n",
       "      <td>House and land (land + building)</td>\n",
       "      <td>13.88</td>\n",
       "      <td>Living</td>\n",
       "      <td>NaN</td>\n",
       "      <td>NaN</td>\n",
       "      <td>1080424</td>\n",
       "      <td>ground2 house1 park0</td>\n",
       "      <td>4</td>\n",
       "      <td>4</td>\n",
       "      <td>apartment</td>\n",
       "      <td>living</td>\n",
       "      <td>reinforced concrete construction</td>\n",
       "      <td>690731.0</td>\n",
       "      <td>42.08</td>\n",
       "      <td>3</td>\n",
       "      <td>2</td>\n",
       "      <td>1</td>\n",
       "      <td>Yes</td>\n",
       "      <td>No</td>\n",
       "      <td>2500000</td>\n",
       "      <td>59411.0</td>\n",
       "      <td>NaN</td>\n",
       "      <td>0.0</td>\n",
       "      <td>0</td>\n",
       "      <td>RPXSMLOLPHOFFAF07CA</td>\n",
       "    </tr>\n",
       "    <tr>\n",
       "      <th>1</th>\n",
       "      <td>Banqiao</td>\n",
       "      <td>House and land (land + building)</td>\n",
       "      <td>31.75</td>\n",
       "      <td>Living</td>\n",
       "      <td>NaN</td>\n",
       "      <td>NaN</td>\n",
       "      <td>1080522</td>\n",
       "      <td>ground3 house1 park0</td>\n",
       "      <td>1</td>\n",
       "      <td>4</td>\n",
       "      <td>apartment</td>\n",
       "      <td>living</td>\n",
       "      <td>reinforced concrete construction</td>\n",
       "      <td>640610.0</td>\n",
       "      <td>91.14</td>\n",
       "      <td>0</td>\n",
       "      <td>0</td>\n",
       "      <td>0</td>\n",
       "      <td>No</td>\n",
       "      <td>No</td>\n",
       "      <td>16800000</td>\n",
       "      <td>184332.0</td>\n",
       "      <td>NaN</td>\n",
       "      <td>0.0</td>\n",
       "      <td>0</td>\n",
       "      <td>RPUOMLQLPHOFFAF56CA</td>\n",
       "    </tr>\n",
       "    <tr>\n",
       "      <th>2</th>\n",
       "      <td>Banqiao</td>\n",
       "      <td>House and land (land + building)</td>\n",
       "      <td>26.00</td>\n",
       "      <td>Living</td>\n",
       "      <td>NaN</td>\n",
       "      <td>NaN</td>\n",
       "      <td>1080528</td>\n",
       "      <td>ground2 house1 park0</td>\n",
       "      <td>3</td>\n",
       "      <td>4</td>\n",
       "      <td>apartment</td>\n",
       "      <td>living</td>\n",
       "      <td>reinforced concrete construction</td>\n",
       "      <td>660615.0</td>\n",
       "      <td>63.54</td>\n",
       "      <td>3</td>\n",
       "      <td>2</td>\n",
       "      <td>1</td>\n",
       "      <td>Yes</td>\n",
       "      <td>No</td>\n",
       "      <td>7000000</td>\n",
       "      <td>110167.0</td>\n",
       "      <td>NaN</td>\n",
       "      <td>0.0</td>\n",
       "      <td>0</td>\n",
       "      <td>RPORMLLJQHOFFAF28CA</td>\n",
       "    </tr>\n",
       "    <tr>\n",
       "      <th>3</th>\n",
       "      <td>Xinzhuang</td>\n",
       "      <td>House and land (land + building)</td>\n",
       "      <td>41.66</td>\n",
       "      <td>Living</td>\n",
       "      <td>NaN</td>\n",
       "      <td>NaN</td>\n",
       "      <td>1080418</td>\n",
       "      <td>ground4 house1 park0</td>\n",
       "      <td>2</td>\n",
       "      <td>4</td>\n",
       "      <td>apartment</td>\n",
       "      <td>living</td>\n",
       "      <td>reinforced concrete construction</td>\n",
       "      <td>670518.0</td>\n",
       "      <td>92.29</td>\n",
       "      <td>3</td>\n",
       "      <td>2</td>\n",
       "      <td>1</td>\n",
       "      <td>Yes</td>\n",
       "      <td>No</td>\n",
       "      <td>6250000</td>\n",
       "      <td>67721.0</td>\n",
       "      <td>NaN</td>\n",
       "      <td>0.0</td>\n",
       "      <td>0</td>\n",
       "      <td>RPXRMLNLPHOFFBF96CA</td>\n",
       "    </tr>\n",
       "    <tr>\n",
       "      <th>4</th>\n",
       "      <td>Xinzhuang</td>\n",
       "      <td>House and land (land + building)</td>\n",
       "      <td>19.90</td>\n",
       "      <td>Living</td>\n",
       "      <td>NaN</td>\n",
       "      <td>NaN</td>\n",
       "      <td>1080625</td>\n",
       "      <td>ground1 house1 park0</td>\n",
       "      <td>3</td>\n",
       "      <td>4</td>\n",
       "      <td>apartment</td>\n",
       "      <td>living</td>\n",
       "      <td>reinforced concrete construction</td>\n",
       "      <td>631018.0</td>\n",
       "      <td>60.56</td>\n",
       "      <td>2</td>\n",
       "      <td>1</td>\n",
       "      <td>1</td>\n",
       "      <td>Yes</td>\n",
       "      <td>No</td>\n",
       "      <td>6000000</td>\n",
       "      <td>99075.0</td>\n",
       "      <td>NaN</td>\n",
       "      <td>0.0</td>\n",
       "      <td>0</td>\n",
       "      <td>RPRSMLNKQHOFFBF09CA</td>\n",
       "    </tr>\n",
       "  </tbody>\n",
       "</table>\n",
       "</div>"
      ],
      "text/plain": [
       "    district            subject of transaction  \\\n",
       "0    Banqiao  House and land (land + building)   \n",
       "1    Banqiao  House and land (land + building)   \n",
       "2    Banqiao  House and land (land + building)   \n",
       "3  Xinzhuang  House and land (land + building)   \n",
       "4  Xinzhuang  House and land (land + building)   \n",
       "\n",
       "   total land transfer area square meters urban land use zoning  \\\n",
       "0                                   13.88                Living   \n",
       "1                                   31.75                Living   \n",
       "2                                   26.00                Living   \n",
       "3                                   41.66                Living   \n",
       "4                                   19.90                Living   \n",
       "\n",
       "  non-urban land Use zoning non-urban land use planning  \\\n",
       "0                       NaN                         NaN   \n",
       "1                       NaN                         NaN   \n",
       "2                       NaN                         NaN   \n",
       "3                       NaN                         NaN   \n",
       "4                       NaN                         NaN   \n",
       "\n",
       "   transaction year and month number of transaction pens transfer level  \\\n",
       "0                     1080424       ground2 house1 park0             4    \n",
       "1                     1080522       ground3 house1 park0              1   \n",
       "2                     1080528       ground2 house1 park0              3   \n",
       "3                     1080418       ground4 house1 park0             2    \n",
       "4                     1080625       ground1 house1 park0              3   \n",
       "\n",
       "  total floors building type main use            main building material  \\\n",
       "0            4     apartment   living  reinforced concrete construction   \n",
       "1            4     apartment   living  reinforced concrete construction   \n",
       "2            4     apartment   living  reinforced concrete construction   \n",
       "3            4     apartment   living  reinforced concrete construction   \n",
       "4            4     apartment   living  reinforced concrete construction   \n",
       "\n",
       "   year and month of completion of construction  \\\n",
       "0                                      690731.0   \n",
       "1                                      640610.0   \n",
       "2                                      660615.0   \n",
       "3                                      670518.0   \n",
       "4                                      631018.0   \n",
       "\n",
       "   total area of building transfer square meters  construction status-room  \\\n",
       "0                                          42.08                         3   \n",
       "1                                          91.14                         0   \n",
       "2                                          63.54                         3   \n",
       "3                                          92.29                         3   \n",
       "4                                          60.56                         2   \n",
       "\n",
       "   construction status-hall  construction status-bathroom  \\\n",
       "0                         2                             1   \n",
       "1                         0                             0   \n",
       "2                         2                             1   \n",
       "3                         2                             1   \n",
       "4                         1                             1   \n",
       "\n",
       "  construction status-compartment with or without management organization  \\\n",
       "0                             Yes                                      No   \n",
       "1                              No                                      No   \n",
       "2                             Yes                                      No   \n",
       "3                             Yes                                      No   \n",
       "4                             Yes                                      No   \n",
       "\n",
       "   total price  unit price per square meter parking category  \\\n",
       "0      2500000                      59411.0              NaN   \n",
       "1     16800000                     184332.0              NaN   \n",
       "2      7000000                     110167.0              NaN   \n",
       "3      6250000                      67721.0              NaN   \n",
       "4      6000000                      99075.0              NaN   \n",
       "\n",
       "   Car displacement to total area square meters  total parking price  \\\n",
       "0                                           0.0                    0   \n",
       "1                                           0.0                    0   \n",
       "2                                           0.0                    0   \n",
       "3                                           0.0                    0   \n",
       "4                                           0.0                    0   \n",
       "\n",
       "               numbers  \n",
       "0  RPXSMLOLPHOFFAF07CA  \n",
       "1  RPUOMLQLPHOFFAF56CA  \n",
       "2  RPORMLLJQHOFFAF28CA  \n",
       "3  RPXRMLNLPHOFFBF96CA  \n",
       "4  RPRSMLNKQHOFFBF09CA  "
      ]
     },
     "execution_count": 47,
     "metadata": {},
     "output_type": "execute_result"
    }
   ],
   "source": [
    "df.head()"
   ]
  },
  {
   "cell_type": "code",
   "execution_count": 48,
   "metadata": {},
   "outputs": [],
   "source": [
    "compression_opts = dict(method='zip',archive_name='new_dataframe.csv')  \n",
    "df.to_csv('price.zip', index=False,compression=compression_opts)  "
   ]
  },
  {
   "cell_type": "code",
   "execution_count": null,
   "metadata": {},
   "outputs": [],
   "source": []
  }
 ],
 "metadata": {
  "kernelspec": {
   "display_name": "Python 3",
   "language": "python",
   "name": "python3"
  },
  "language_info": {
   "codemirror_mode": {
    "name": "ipython",
    "version": 3
   },
   "file_extension": ".py",
   "mimetype": "text/x-python",
   "name": "python",
   "nbconvert_exporter": "python",
   "pygments_lexer": "ipython3",
   "version": "3.7.6"
  }
 },
 "nbformat": 4,
 "nbformat_minor": 4
}
